{
 "cells": [
  {
   "cell_type": "code",
   "execution_count": 26,
   "metadata": {},
   "outputs": [],
   "source": [
    "from tqdm import tqdm\n",
    "\n",
    "import torch\n",
    "from utils import GraphLoader\n",
    "from model_4 import GammaModel"
   ]
  },
  {
   "cell_type": "code",
   "execution_count": 2,
   "metadata": {},
   "outputs": [],
   "source": [
    "DVC = torch.device('cuda:0')"
   ]
  },
  {
   "cell_type": "code",
   "execution_count": 3,
   "metadata": {},
   "outputs": [],
   "source": [
    "gl = GraphLoader('DataPreprocess/full_graph/interaction_graph_nf.bin')"
   ]
  },
  {
   "cell_type": "code",
   "execution_count": 4,
   "metadata": {},
   "outputs": [
    {
     "name": "stdout",
     "output_type": "stream",
     "text": [
      "################# Basic Information of The Graph #################\n",
      "Edge ('contributor', 'contributor_follow_contributor', 'contributor') 2286407\n",
      "Edge ('contributor', 'contributor_propose_issue', 'issue') 692554\n",
      "Edge ('contributor', 'contributor_propose_pr', 'pr') 379498\n",
      "Edge ('contributor', 'contributor_star_repo', 'repository') 947423\n",
      "Edge ('contributor', 'contributor_watch_repo', 'repository') 150292\n",
      "Edge ('issue', 'issue_belong_to_repo', 'repository') 692554\n",
      "Edge ('pr', 'pr_belong_to_repo', 'repository') 379498\n",
      "Edge ('repository', 'repo_committed_by_contributor', 'contributor') 161241\n",
      "Node contributor 394474\n",
      "Node issue 692554\n",
      "Node pr 379496\n",
      "Node repository 50000\n",
      "Total number of nodes 1516524\n",
      "Total number of edges 5689467\n",
      "################# End of the Graph Information  #################\n",
      "{('contributor', 'contributor_follow_contributor', 'contributor'): 0, ('contributor', 'contributor_propose_issue', 'issue'): 1, ('contributor', 'contributor_propose_pr', 'pr'): 2, ('contributor', 'contributor_star_repo', 'repository'): 3, ('contributor', 'contributor_watch_repo', 'repository'): 4, ('issue', 'issue_belong_to_repo', 'repository'): 5, ('pr', 'pr_belong_to_repo', 'repository'): 6, ('repository', 'repo_committed_by_contributor', 'contributor'): 7}\n"
     ]
    }
   ],
   "source": [
    "hg, node_feats, edge2ids = gl.load_graph(device=DVC)"
   ]
  },
  {
   "cell_type": "code",
   "execution_count": 5,
   "metadata": {},
   "outputs": [],
   "source": [
    "node_feat_dim_dict = {ntype: node_feats[ntype].shape[1] for ntype in hg.ntypes}\n",
    "node_feat_dim_dict2 = {k: v for k, v in node_feat_dim_dict.items()}\n",
    "EMB_FEATURES = 64\n",
    "node_feat_dim_dict2['contributor'] = 2 * EMB_FEATURES\n",
    "node_feat_dim_dict2['repository']  = 2 * EMB_FEATURES"
   ]
  },
  {
   "cell_type": "code",
   "execution_count": 6,
   "metadata": {},
   "outputs": [],
   "source": [
    "g_inter = hg.edge_type_subgraph([\n",
    "    'contributor_propose_issue',\n",
    "    'contributor_propose_pr',\n",
    "    'contributor_star_repo',\n",
    "    'contributor_watch_repo',\n",
    "    'issue_belong_to_repo',\n",
    "    'pr_belong_to_repo',\n",
    "    'repo_committed_by_contributor'\n",
    "])\n",
    "g_social = hg.edge_type_subgraph(['contributor_follow_contributor'])"
   ]
  },
  {
   "cell_type": "code",
   "execution_count": 7,
   "metadata": {},
   "outputs": [],
   "source": [
    "from parameter_namespace import \\\n",
    "        GeneralParameterNamespace, \\\n",
    "        HetGATParameterNamespace, \\\n",
    "        HetGCNParameterNamespace\n",
    "\n",
    "pn = GeneralParameterNamespace('gamma')\n",
    "gat_pn = HetGATParameterNamespace()\n",
    "gcn_pn = HetGCNParameterNamespace()"
   ]
  },
  {
   "cell_type": "code",
   "execution_count": 8,
   "metadata": {},
   "outputs": [],
   "source": [
    "model = GammaModel(\n",
    "    g_inter,\n",
    "    g_social,\n",
    "    node_feat_dim_dict,\n",
    "    node_feat_dim_dict=node_feat_dim_dict,\n",
    "    node_feat_dim_dict2=node_feat_dim_dict2\n",
    ")"
   ]
  },
  {
   "cell_type": "code",
   "execution_count": 9,
   "metadata": {},
   "outputs": [],
   "source": [
    "state_dict = torch.load('model.bin')\n",
    "model.load_state_dict(state_dict)\n",
    "model = model.to(DVC)"
   ]
  },
  {
   "cell_type": "code",
   "execution_count": 10,
   "metadata": {},
   "outputs": [],
   "source": [
    "BATCH_SIZE = 512"
   ]
  },
  {
   "cell_type": "code",
   "execution_count": 11,
   "metadata": {},
   "outputs": [
    {
     "name": "stderr",
     "output_type": "stream",
     "text": [
      "100%|██████████| 2962/2962 [00:30<00:00, 98.45it/s] \n",
      "100%|██████████| 2962/2962 [00:29<00:00, 100.09it/s]\n",
      "100%|██████████| 2962/2962 [00:28<00:00, 102.80it/s]\n"
     ]
    }
   ],
   "source": [
    "x = model.m_inter\\\n",
    "    .inference(model.g_inter, node_feats, batch_size=BATCH_SIZE, device=DVC)"
   ]
  },
  {
   "cell_type": "code",
   "execution_count": 12,
   "metadata": {},
   "outputs": [],
   "source": [
    "x_ = {'contributor': x['contributor'].to(DVC) }"
   ]
  },
  {
   "cell_type": "code",
   "execution_count": 13,
   "metadata": {},
   "outputs": [
    {
     "name": "stderr",
     "output_type": "stream",
     "text": [
      "100%|██████████| 771/771 [00:01<00:00, 408.43it/s]\n",
      "100%|██████████| 771/771 [00:01<00:00, 402.36it/s]\n",
      "100%|██████████| 771/771 [00:01<00:00, 407.84it/s]\n"
     ]
    }
   ],
   "source": [
    "X_ = model.m_social\\\n",
    "    .inference(model.g_social, x_, batch_size=BATCH_SIZE, device=DVC)"
   ]
  },
  {
   "cell_type": "code",
   "execution_count": 14,
   "metadata": {},
   "outputs": [],
   "source": [
    "X = X_['contributor']"
   ]
  },
  {
   "cell_type": "code",
   "execution_count": 15,
   "metadata": {},
   "outputs": [],
   "source": [
    "u = model.u_head(node_feats['contributor'])\n",
    "v = model.v_head(node_feats['repository'])"
   ]
  },
  {
   "cell_type": "code",
   "execution_count": 16,
   "metadata": {},
   "outputs": [],
   "source": [
    "X = model.mock_x_head(X.to(DVC))"
   ]
  },
  {
   "cell_type": "code",
   "execution_count": 17,
   "metadata": {},
   "outputs": [],
   "source": [
    "X, uu, vv = map(lambda it: it.unsqueeze(1), [X, u, v])"
   ]
  },
  {
   "cell_type": "code",
   "execution_count": 18,
   "metadata": {},
   "outputs": [
    {
     "data": {
      "application/vnd.jupyter.widget-view+json": {
       "model_id": "7d427714251c4fada94814816dfef3e0",
       "version_major": 2,
       "version_minor": 0
      },
      "text/plain": [
       "  0%|          | 0/395 [00:00<?, ?it/s]"
      ]
     },
     "metadata": {},
     "output_type": "display_data"
    }
   ],
   "source": [
    "STEP = 1000\n",
    "with torch.no_grad():\n",
    "    f_uus = torch.cat([model.HUR(uu[i:i+STEP], X, X) \n",
    "                       for i in tqdm(range(0, uu.shape[0], STEP))])"
   ]
  },
  {
   "cell_type": "code",
   "execution_count": 19,
   "metadata": {},
   "outputs": [
    {
     "data": {
      "application/vnd.jupyter.widget-view+json": {
       "model_id": "5546558df9724d2fb0668dbc48217e3b",
       "version_major": 2,
       "version_minor": 0
      },
      "text/plain": [
       "  0%|          | 0/50 [00:00<?, ?it/s]"
      ]
     },
     "metadata": {},
     "output_type": "display_data"
    },
    {
     "data": {
      "application/vnd.jupyter.widget-view+json": {
       "model_id": "32a9723f7e4c44c89f8f6540a79194e7",
       "version_major": 2,
       "version_minor": 0
      },
      "text/plain": [
       "  0%|          | 0/395 [00:00<?, ?it/s]"
      ]
     },
     "metadata": {},
     "output_type": "display_data"
    }
   ],
   "source": [
    "with torch.no_grad(): \n",
    "    e_uv = torch.cat([\n",
    "        model.UVR(vv[i:i+STEP], f_uus, f_uus) \n",
    "        for i in tqdm(range(0, vv.shape[0], STEP))\n",
    "    ]).squeeze(1)\n",
    "    e_vu = torch.cat([\n",
    "        model.UVR(f_uus[i:i+STEP], vv, vv)\n",
    "        for i in tqdm(range(0, f_uus.shape[0], STEP))\n",
    "    ]).squeeze(1)"
   ]
  },
  {
   "cell_type": "code",
   "execution_count": 20,
   "metadata": {},
   "outputs": [],
   "source": [
    "u2 = torch.cat((u, e_vu), dim=1)\n",
    "v2 = torch.cat((v, e_uv), dim=1)"
   ]
  },
  {
   "cell_type": "code",
   "execution_count": 21,
   "metadata": {},
   "outputs": [],
   "source": [
    "node_feats2 = {k: v for k, v in node_feats.items()}\n",
    "node_feats2['contributor'] = u2\n",
    "node_feats2['repository']  = v2"
   ]
  },
  {
   "cell_type": "code",
   "execution_count": 22,
   "metadata": {},
   "outputs": [],
   "source": [
    "mdl = model.m_fin "
   ]
  },
  {
   "cell_type": "code",
   "execution_count": 23,
   "metadata": {},
   "outputs": [
    {
     "name": "stderr",
     "output_type": "stream",
     "text": [
      "  0%|          | 0/2962 [00:00<?, ?it/s]"
     ]
    },
    {
     "name": "stderr",
     "output_type": "stream",
     "text": [
      "100%|██████████| 2962/2962 [00:31<00:00, 94.15it/s]\n",
      "100%|██████████| 2962/2962 [00:31<00:00, 94.71it/s]\n",
      "100%|██████████| 2962/2962 [00:31<00:00, 94.69it/s]\n"
     ]
    }
   ],
   "source": [
    "final = mdl.inference(model.g_inter, node_feats2, batch_size=BATCH_SIZE, device=DVC)"
   ]
  },
  {
   "cell_type": "code",
   "execution_count": 24,
   "metadata": {},
   "outputs": [
    {
     "data": {
      "text/plain": [
       "{'contributor': torch.Size([394474, 64]),\n",
       " 'issue': torch.Size([692554, 64]),\n",
       " 'pr': torch.Size([379496, 64]),\n",
       " 'repository': torch.Size([50000, 64])}"
      ]
     },
     "execution_count": 24,
     "metadata": {},
     "output_type": "execute_result"
    }
   ],
   "source": [
    "{k: v.shape for k, v in final.items()}"
   ]
  },
  {
   "cell_type": "code",
   "execution_count": 25,
   "metadata": {},
   "outputs": [],
   "source": [
    "torch.save(final, 'final_node_embedding.bin')"
   ]
  }
 ],
 "metadata": {
  "kernelspec": {
   "display_name": "dtem",
   "language": "python",
   "name": "python3"
  },
  "language_info": {
   "codemirror_mode": {
    "name": "ipython",
    "version": 3
   },
   "file_extension": ".py",
   "mimetype": "text/x-python",
   "name": "python",
   "nbconvert_exporter": "python",
   "pygments_lexer": "ipython3",
   "version": "3.8.18"
  }
 },
 "nbformat": 4,
 "nbformat_minor": 2
}
