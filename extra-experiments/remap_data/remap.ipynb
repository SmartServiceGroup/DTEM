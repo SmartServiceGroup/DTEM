{
 "cells": [
  {
   "cell_type": "code",
   "execution_count": 1,
   "metadata": {},
   "outputs": [],
   "source": [
    "#!/usr/bin/env python3"
   ]
  },
  {
   "cell_type": "code",
   "execution_count": 2,
   "metadata": {},
   "outputs": [],
   "source": [
    "import json"
   ]
  },
  {
   "cell_type": "code",
   "execution_count": 10,
   "metadata": {},
   "outputs": [],
   "source": [
    "mapping_file = '../mapping_files/small.json' # can also be 'middle.json'"
   ]
  },
  {
   "cell_type": "code",
   "execution_count": 11,
   "metadata": {},
   "outputs": [],
   "source": [
    "contributor_mapping = json.load(open(mapping_file))"
   ]
  },
  {
   "cell_type": "code",
   "execution_count": 12,
   "metadata": {},
   "outputs": [],
   "source": [
    "files = {\n",
    "    'SimDeveloper':     '../RecommendationTasks/SimDeveloper/data/sim_user.json', \n",
    "    'RepoMaintainer':   '../RecommendationTasks/RepoMaintainer/data/repo_organizer_samples.json',\n",
    "    'ContributionRepo': '../RecommendationTasks/ContributionRepo/data/user_watch_repos.json',\n",
    "}"
   ]
  },
  {
   "cell_type": "code",
   "execution_count": 13,
   "metadata": {},
   "outputs": [],
   "source": [
    "# first, handle SimDeveloper \n",
    "file = files['SimDeveloper']\n",
    "data = json.load(open(file))\n",
    "new_data = [\n",
    "    [contributor_mapping[str(a)], contributor_mapping[str(b)], contributor_mapping[str(c)]]\n",
    "    for a, b, c in data\n",
    "]\n",
    "json.dump(new_data, open(f'{file}.small', 'w'), indent=2)\n",
    "# the file will be renamed to its original name after checking."
   ]
  },
  {
   "cell_type": "code",
   "execution_count": 14,
   "metadata": {},
   "outputs": [],
   "source": [
    "# second, handle RepoMaintainer \n",
    "file = files['RepoMaintainer']\n",
    "data = json.load(open(file))\n",
    "new_data = [\n",
    "    [a, contributor_mapping[str(b)], contributor_mapping[str(c)]]\n",
    "    for a, b, c in data\n",
    "]\n",
    "json.dump(new_data, open(f'{file}.small', 'w'), indent=2)"
   ]
  },
  {
   "cell_type": "code",
   "execution_count": 15,
   "metadata": {},
   "outputs": [],
   "source": [
    "# third, handle ContributionRepo\n",
    "file = files['ContributionRepo']\n",
    "data = json.load(open(file))\n",
    "new_data = [\n",
    "    [contributor_mapping[str(a)], b, c]\n",
    "    for a, b, c in data\n",
    "]\n",
    "json.dump(new_data, open(f'{file}.small', 'w'), indent=2)"
   ]
  }
 ],
 "metadata": {
  "kernelspec": {
   "display_name": "dtem",
   "language": "python",
   "name": "python3"
  },
  "language_info": {
   "codemirror_mode": {
    "name": "ipython",
    "version": 3
   },
   "file_extension": ".py",
   "mimetype": "text/x-python",
   "name": "python",
   "nbconvert_exporter": "python",
   "pygments_lexer": "ipython3",
   "version": "3.8.18"
  }
 },
 "nbformat": 4,
 "nbformat_minor": 2
}
